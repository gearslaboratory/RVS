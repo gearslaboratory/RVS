{
 "cells": [
  {
   "cell_type": "code",
   "execution_count": 1,
   "metadata": {},
   "outputs": [],
   "source": [
    "import geopandas as gpd\n",
    "import pandas as pd\n",
    "import sqlite3\n",
    "import rasterio\n",
    "from rasterio.transform import from_origin\n",
    "from shapely.geometry import Point\n",
    "import numpy as np\n",
    "import matplotlib.pyplot as plt\n",
    "import fnmatch\n",
    "import os"
   ]
  },
  {
   "cell_type": "code",
   "execution_count": 7,
   "metadata": {},
   "outputs": [
    {
     "name": "stdout",
     "output_type": "stream",
     "text": [
      "C:/Users/ingli/OneDrive - University of Nevada, Reno/Desktop/unr/git/RVS/240226_test/outs/out_1_fire.db\n"
     ]
    }
   ],
   "source": [
    "fire_suffix=\"_fire\"\n",
    "directory = 'C:/Users/ingli/OneDrive - University of Nevada, Reno/Desktop/unr/git/RVS/240226_test/outs/'\n",
    "year = 7  \n",
    "pattern = \"out_*_fire.db\" \n",
    "out_raster = f'C:/Users/ingli/OneDrive - University of Nevada, Reno/Desktop/unr/git/RVS/240226_test/outs/rasters/biomass_year{year}{fire_suffix}.tif'\n",
    "\n",
    "def fetch_data(db_path, year):\n",
    "    # Connect to the SQLite database\n",
    "    conn = sqlite3.connect(db_path)\n",
    "    query = f\"\"\"\n",
    "    SELECT latitude, longitude, total_biomass\n",
    "    FROM Biomass_Output\n",
    "    WHERE year = {year}\n",
    "    \"\"\"\n",
    "    # Read the query directly into a Pandas DataFrame\n",
    "    df = pd.read_sql_query(query, conn)\n",
    "    conn.close()\n",
    "    return df\n",
    "\n",
    "def process_files(directory, year, pattern):\n",
    "    gdfs = []\n",
    "    # List all files that match the pattern in the directory\n",
    "    for filename in os.listdir(directory):\n",
    "        if fnmatch.fnmatch(filename, pattern):  # Check if filename matches the pattern\n",
    "            db_path = os.path.join(directory, filename)\n",
    "            print(db_path)\n",
    "            df = fetch_data(db_path, year)\n",
    "            if not df.empty:\n",
    "                gdf = gpd.GeoDataFrame(\n",
    "                    df,\n",
    "                    geometry=gpd.points_from_xy(df.longitude, df.latitude),\n",
    "                    crs=\"EPSG:4326\"\n",
    "                )\n",
    "                gdf = gdf.to_crs(\"EPSG:3310\")  # Reproject to California Albers\n",
    "                gdfs.append(gdf)\n",
    "    return gdfs\n",
    "\n",
    "\n",
    "gdfs = process_files(directory, year,pattern)\n",
    "\n",
    "\n",
    "def get_union_extent(gdfs):\n",
    "    \"\"\"Calculate the union of bounds of multiple geodataframes.\"\"\"\n",
    "    xmin = ymin = float('inf')\n",
    "    xmax = ymax = float('-inf')\n",
    "    \n",
    "    for gdf in gdfs:\n",
    "        minx, miny, maxx, maxy = gdf.total_bounds\n",
    "        xmin = min(xmin, minx)\n",
    "        ymin = min(ymin, miny)\n",
    "        xmax = max(xmax, maxx)\n",
    "        ymax = max(ymax, maxy)\n",
    "    \n",
    "    return xmin, ymin, xmax, ymax\n",
    "\n",
    "\n",
    "def initialize_raster(xmin, ymax, xmax, ymin, cell_size):\n",
    "    \"\"\"Initialize a raster array and return it with its transform.\"\"\"\n",
    "    width = int((xmax - xmin) / cell_size) + 1\n",
    "    height = int((ymax - ymin) / cell_size) + 1\n",
    "    transform = from_origin(xmin, ymax, cell_size, cell_size)\n",
    "    raster = np.full((height, width), np.nan)  # Initialize with NaNs\n",
    "    return raster, transform, width, height\n",
    "\n",
    "def rasterize_gdf(gdf, raster, transform, width, height):\n",
    "    \"\"\"Rasterize geodataframe points into the given raster based on the transform.\"\"\"\n",
    "    for point, value in zip(gdf.geometry, gdf['total_biomass']):\n",
    "        col, row = ~transform * (point.x, point.y)\n",
    "        col, row = int(col), int(row)\n",
    "        if 0 <= row < height and 0 <= col < width:\n",
    "            raster[row, col] = value  # Here we're overwriting; modify for other aggregation logic as needed\n",
    "\n",
    "# Determine the union extent of all GeoDataFrames\n",
    "xmin, ymin, xmax, ymax = get_union_extent(gdfs)\n",
    "\n",
    "# Initialize the master raster\n",
    "cell_size = 30  # Assuming 30m resolution\n",
    "raster, transform, width, height = initialize_raster(xmin, ymax, xmax, ymin, cell_size)\n",
    "\n",
    "# Rasterize each GeoDataFrame\n",
    "for gdf in gdfs:\n",
    "    rasterize_gdf(gdf, raster, transform, width, height)\n",
    "\n",
    "# Save the combined raster to a file\n",
    "meta = {\n",
    "    'driver': 'GTiff',\n",
    "    'dtype': str(raster.dtype),\n",
    "    'nodata': np.nan,\n",
    "    'width': width,\n",
    "    'height': height,\n",
    "    'count': 1,\n",
    "    'crs': 'EPSG:3310',\n",
    "    'transform': transform\n",
    "}\n",
    "with rasterio.open(out_raster, 'w', **meta) as dst:\n",
    "    dst.write(raster, 1)\n",
    "\n",
    "\n",
    "\n"
   ]
  },
  {
   "cell_type": "code",
   "execution_count": 30,
   "metadata": {},
   "outputs": [],
   "source": [
    "\n"
   ]
  },
  {
   "cell_type": "code",
   "execution_count": 31,
   "metadata": {},
   "outputs": [],
   "source": [
    "\n",
    "\n",
    "\n"
   ]
  },
  {
   "cell_type": "code",
   "execution_count": 48,
   "metadata": {},
   "outputs": [],
   "source": []
  },
  {
   "cell_type": "code",
   "execution_count": 49,
   "metadata": {},
   "outputs": [],
   "source": [
    "\n",
    "# Path to the raster file\n"
   ]
  },
  {
   "cell_type": "code",
   "execution_count": null,
   "metadata": {},
   "outputs": [],
   "source": [
    "\n"
   ]
  },
  {
   "cell_type": "code",
   "execution_count": 6,
   "metadata": {},
   "outputs": [
    {
     "ename": "NameError",
     "evalue": "name 'raster_data' is not defined",
     "output_type": "error",
     "traceback": [
      "\u001b[1;31m---------------------------------------------------------------------------\u001b[0m",
      "\u001b[1;31mNameError\u001b[0m                                 Traceback (most recent call last)",
      "Cell \u001b[1;32mIn[6], line 2\u001b[0m\n\u001b[0;32m      1\u001b[0m \u001b[38;5;66;03m# Mask no-data values, assuming no-data is represented as np.nan\u001b[39;00m\n\u001b[1;32m----> 2\u001b[0m raster_data \u001b[38;5;241m=\u001b[39m np\u001b[38;5;241m.\u001b[39mwhere(\u001b[43mraster_data\u001b[49m \u001b[38;5;241m==\u001b[39m \u001b[38;5;241m-\u001b[39m\u001b[38;5;241m9999\u001b[39m, np\u001b[38;5;241m.\u001b[39mnan, raster_data)\n\u001b[0;32m      4\u001b[0m \u001b[38;5;66;03m# Now plot using the masked array\u001b[39;00m\n\u001b[0;32m      5\u001b[0m fig, ax \u001b[38;5;241m=\u001b[39m plt\u001b[38;5;241m.\u001b[39msubplots(figsize\u001b[38;5;241m=\u001b[39m(\u001b[38;5;241m10\u001b[39m, \u001b[38;5;241m10\u001b[39m))\n",
      "\u001b[1;31mNameError\u001b[0m: name 'raster_data' is not defined"
     ]
    }
   ],
   "source": [
    "# Mask no-data values, assuming no-data is represented as np.nan\n",
    "raster_data = np.where(raster_data == -9999, np.nan, raster_data)\n",
    "\n",
    "# Now plot using the masked array\n",
    "fig, ax = plt.subplots(figsize=(10, 10))\n",
    "cax = ax.imshow(raster_data, cmap=cmap, interpolation='nearest')\n",
    "fig.colorbar(cax, ax=ax, label='Total Biomass')\n",
    "ax.set_title('Total Biomass Raster Plot')\n",
    "plt.show()\n"
   ]
  }
 ],
 "metadata": {
  "kernelspec": {
   "display_name": "ee",
   "language": "python",
   "name": "python3"
  },
  "language_info": {
   "codemirror_mode": {
    "name": "ipython",
    "version": 3
   },
   "file_extension": ".py",
   "mimetype": "text/x-python",
   "name": "python",
   "nbconvert_exporter": "python",
   "pygments_lexer": "ipython3",
   "version": "3.11.6"
  }
 },
 "nbformat": 4,
 "nbformat_minor": 2
}
